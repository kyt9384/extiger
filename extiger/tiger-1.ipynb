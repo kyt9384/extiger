{
 "cells": [
  {
   "cell_type": "code",
   "execution_count": 1,
   "metadata": {},
   "outputs": [],
   "source": [
    "#-*- coding:utf-8 -*-\n",
    "%matplotlib inline\n",
    "import numpy as np\n",
    "import matplotlib.pyplot as plt\n",
    "\n",
    "# 한글 폰트 적용\n",
    "from matplotlib import font_manager, rc\n",
    "import matplotlib as mpl\n",
    "font_name = font_manager.FontProperties(fname=\"c:/Windows/Fonts/malgun.ttf\").get_name()\n",
    "rc('font', family=font_name)\n",
    "mpl.rcParams['axes.unicode_minus'] = False"
   ]
  },
  {
   "cell_type": "code",
   "execution_count": 2,
   "metadata": {},
   "outputs": [
    {
     "data": {
      "text/html": [
       "<div>\n",
       "<style scoped>\n",
       "    .dataframe tbody tr th:only-of-type {\n",
       "        vertical-align: middle;\n",
       "    }\n",
       "\n",
       "    .dataframe tbody tr th {\n",
       "        vertical-align: top;\n",
       "    }\n",
       "\n",
       "    .dataframe thead th {\n",
       "        text-align: right;\n",
       "    }\n",
       "</style>\n",
       "<table border=\"1\" class=\"dataframe\">\n",
       "  <thead>\n",
       "    <tr style=\"text-align: right;\">\n",
       "      <th></th>\n",
       "      <th>color1</th>\n",
       "      <th>color2</th>\n",
       "      <th>color3</th>\n",
       "      <th>color4</th>\n",
       "      <th>imu1</th>\n",
       "      <th>imu2</th>\n",
       "      <th>imu3</th>\n",
       "      <th>imu4</th>\n",
       "      <th>imu5</th>\n",
       "      <th>imu6</th>\n",
       "      <th>imu7</th>\n",
       "      <th>imu8</th>\n",
       "      <th>imu9</th>\n",
       "      <th>lidar</th>\n",
       "      <th>y</th>\n",
       "    </tr>\n",
       "  </thead>\n",
       "  <tbody>\n",
       "    <tr>\n",
       "      <th>0</th>\n",
       "      <td>101</td>\n",
       "      <td>39</td>\n",
       "      <td>34</td>\n",
       "      <td>31</td>\n",
       "      <td>0.014954</td>\n",
       "      <td>0.000000</td>\n",
       "      <td>-0.022430</td>\n",
       "      <td>0.001343</td>\n",
       "      <td>0.004028</td>\n",
       "      <td>0.990906</td>\n",
       "      <td>0.28700</td>\n",
       "      <td>0.10626</td>\n",
       "      <td>-0.44170</td>\n",
       "      <td>33</td>\n",
       "      <td>0</td>\n",
       "    </tr>\n",
       "    <tr>\n",
       "      <th>1</th>\n",
       "      <td>101</td>\n",
       "      <td>39</td>\n",
       "      <td>34</td>\n",
       "      <td>31</td>\n",
       "      <td>0.097198</td>\n",
       "      <td>0.044861</td>\n",
       "      <td>0.112152</td>\n",
       "      <td>-0.002258</td>\n",
       "      <td>-0.003357</td>\n",
       "      <td>0.988342</td>\n",
       "      <td>0.29316</td>\n",
       "      <td>0.10290</td>\n",
       "      <td>-0.44282</td>\n",
       "      <td>33</td>\n",
       "      <td>0</td>\n",
       "    </tr>\n",
       "    <tr>\n",
       "      <th>2</th>\n",
       "      <td>101</td>\n",
       "      <td>39</td>\n",
       "      <td>34</td>\n",
       "      <td>31</td>\n",
       "      <td>0.104675</td>\n",
       "      <td>-0.067291</td>\n",
       "      <td>0.089722</td>\n",
       "      <td>-0.002625</td>\n",
       "      <td>-0.001831</td>\n",
       "      <td>0.989685</td>\n",
       "      <td>0.29120</td>\n",
       "      <td>0.10822</td>\n",
       "      <td>-0.44044</td>\n",
       "      <td>33</td>\n",
       "      <td>0</td>\n",
       "    </tr>\n",
       "    <tr>\n",
       "      <th>3</th>\n",
       "      <td>101</td>\n",
       "      <td>39</td>\n",
       "      <td>34</td>\n",
       "      <td>31</td>\n",
       "      <td>0.022430</td>\n",
       "      <td>0.104675</td>\n",
       "      <td>-0.119629</td>\n",
       "      <td>0.004211</td>\n",
       "      <td>-0.000977</td>\n",
       "      <td>0.973938</td>\n",
       "      <td>0.29106</td>\n",
       "      <td>0.10528</td>\n",
       "      <td>-0.44534</td>\n",
       "      <td>33</td>\n",
       "      <td>0</td>\n",
       "    </tr>\n",
       "    <tr>\n",
       "      <th>4</th>\n",
       "      <td>101</td>\n",
       "      <td>39</td>\n",
       "      <td>34</td>\n",
       "      <td>31</td>\n",
       "      <td>-0.082245</td>\n",
       "      <td>-0.059814</td>\n",
       "      <td>-0.007477</td>\n",
       "      <td>0.005432</td>\n",
       "      <td>0.002441</td>\n",
       "      <td>0.990967</td>\n",
       "      <td>0.29638</td>\n",
       "      <td>0.09884</td>\n",
       "      <td>-0.44226</td>\n",
       "      <td>33</td>\n",
       "      <td>0</td>\n",
       "    </tr>\n",
       "  </tbody>\n",
       "</table>\n",
       "</div>"
      ],
      "text/plain": [
       "   color1  color2  color3  color4      imu1      imu2      imu3      imu4  \\\n",
       "0     101      39      34      31  0.014954  0.000000 -0.022430  0.001343   \n",
       "1     101      39      34      31  0.097198  0.044861  0.112152 -0.002258   \n",
       "2     101      39      34      31  0.104675 -0.067291  0.089722 -0.002625   \n",
       "3     101      39      34      31  0.022430  0.104675 -0.119629  0.004211   \n",
       "4     101      39      34      31 -0.082245 -0.059814 -0.007477  0.005432   \n",
       "\n",
       "       imu5      imu6     imu7     imu8     imu9  lidar  y  \n",
       "0  0.004028  0.990906  0.28700  0.10626 -0.44170     33  0  \n",
       "1 -0.003357  0.988342  0.29316  0.10290 -0.44282     33  0  \n",
       "2 -0.001831  0.989685  0.29120  0.10822 -0.44044     33  0  \n",
       "3 -0.000977  0.973938  0.29106  0.10528 -0.44534     33  0  \n",
       "4  0.002441  0.990967  0.29638  0.09884 -0.44226     33  0  "
      ]
     },
     "metadata": {},
     "output_type": "display_data"
    }
   ],
   "source": [
    "import os\n",
    "import pandas as pd\n",
    "\n",
    "data = pd.read_csv(\n",
    "    os.path.join(\"C:/Users/SANGWON/data\", \"tiger_p1_140lx_1.csv\"), index_col=False)\n",
    "\n",
    "display(data.head())"
   ]
  },
  {
   "cell_type": "code",
   "execution_count": 3,
   "metadata": {},
   "outputs": [],
   "source": [
    "features = data.loc[:, 'color1':'lidar']\n",
    "# NumPy 배열 추출\n",
    "X = features.values\n",
    "y = data['y'].values"
   ]
  },
  {
   "cell_type": "code",
   "execution_count": 4,
   "metadata": {},
   "outputs": [
    {
     "name": "stdout",
     "output_type": "stream",
     "text": [
      "X_train 크기: (49755, 14)\n",
      "y_train 크기: (49755,)\n",
      "X_test 크기: (16586, 14)\n",
      "y_test 크기: (16586,)\n"
     ]
    }
   ],
   "source": [
    "from sklearn.model_selection import train_test_split\n",
    "X_train, X_test, y_train, y_test = train_test_split(X, y, random_state=42)\n",
    "\n",
    "print(\"X_train 크기: {}\".format(X_train.shape))\n",
    "print(\"y_train 크기: {}\".format(y_train.shape))\n",
    "\n",
    "print(\"X_test 크기: {}\".format(X_test.shape))\n",
    "print(\"y_test 크기: {}\".format(y_test.shape))"
   ]
  },
  {
   "cell_type": "code",
   "execution_count": 5,
   "metadata": {},
   "outputs": [
    {
     "name": "stdout",
     "output_type": "stream",
     "text": [
      "knn의 테스트 세트 정확도 : 1.00\n"
     ]
    }
   ],
   "source": [
    "from sklearn.neighbors import KNeighborsClassifier\n",
    "knn = KNeighborsClassifier(n_neighbors=5)\n",
    "\n",
    "knn.fit(X_train, y_train)\n",
    "\n",
    "print(\"knn의 테스트 세트 정확도 : {:.2f}\".format(knn.score(X_test, y_test)))"
   ]
  },
  {
   "cell_type": "code",
   "execution_count": 6,
   "metadata": {},
   "outputs": [
    {
     "name": "stdout",
     "output_type": "stream",
     "text": [
      "테스트 점수: 1.00\n"
     ]
    }
   ],
   "source": [
    "from sklearn.preprocessing import MinMaxScaler\n",
    "from sklearn.svm import SVC\n",
    "\n",
    "scaler = MinMaxScaler().fit(X_train)\n",
    "\n",
    "X_train_scaled = scaler.transform(X_train)\n",
    "\n",
    "svm = SVC(gamma='auto')\n",
    "svm.fit(X_train_scaled, y_train)\n",
    "\n",
    "X_test_scaled = scaler.transform(X_test)\n",
    "print(\"테스트 점수: {:.2f}\".format(svm.score(X_test_scaled, y_test)))"
   ]
  },
  {
   "cell_type": "code",
   "execution_count": 7,
   "metadata": {},
   "outputs": [
    {
     "data": {
      "text/html": [
       "<div>\n",
       "<style scoped>\n",
       "    .dataframe tbody tr th:only-of-type {\n",
       "        vertical-align: middle;\n",
       "    }\n",
       "\n",
       "    .dataframe tbody tr th {\n",
       "        vertical-align: top;\n",
       "    }\n",
       "\n",
       "    .dataframe thead th {\n",
       "        text-align: right;\n",
       "    }\n",
       "</style>\n",
       "<table border=\"1\" class=\"dataframe\">\n",
       "  <thead>\n",
       "    <tr style=\"text-align: right;\">\n",
       "      <th></th>\n",
       "      <th>color1</th>\n",
       "      <th>color2</th>\n",
       "      <th>color3</th>\n",
       "      <th>color4</th>\n",
       "      <th>imu1</th>\n",
       "      <th>imu2</th>\n",
       "      <th>imu3</th>\n",
       "      <th>imu4</th>\n",
       "      <th>imu5</th>\n",
       "      <th>imu6</th>\n",
       "      <th>imu7</th>\n",
       "      <th>imu8</th>\n",
       "      <th>imu9</th>\n",
       "      <th>lidar</th>\n",
       "      <th>y</th>\n",
       "    </tr>\n",
       "  </thead>\n",
       "  <tbody>\n",
       "    <tr>\n",
       "      <th>66336</th>\n",
       "      <td>123</td>\n",
       "      <td>44</td>\n",
       "      <td>43</td>\n",
       "      <td>38</td>\n",
       "      <td>0.029907</td>\n",
       "      <td>-0.007477</td>\n",
       "      <td>-0.164490</td>\n",
       "      <td>0.010803</td>\n",
       "      <td>0.130249</td>\n",
       "      <td>1.028442</td>\n",
       "      <td>0.33096</td>\n",
       "      <td>0.45290</td>\n",
       "      <td>-0.34524</td>\n",
       "      <td>120</td>\n",
       "      <td>1</td>\n",
       "    </tr>\n",
       "    <tr>\n",
       "      <th>66337</th>\n",
       "      <td>122</td>\n",
       "      <td>44</td>\n",
       "      <td>43</td>\n",
       "      <td>38</td>\n",
       "      <td>0.052338</td>\n",
       "      <td>0.029907</td>\n",
       "      <td>0.007477</td>\n",
       "      <td>0.012085</td>\n",
       "      <td>0.128479</td>\n",
       "      <td>1.019104</td>\n",
       "      <td>0.33152</td>\n",
       "      <td>0.44870</td>\n",
       "      <td>-0.34888</td>\n",
       "      <td>120</td>\n",
       "      <td>1</td>\n",
       "    </tr>\n",
       "    <tr>\n",
       "      <th>66338</th>\n",
       "      <td>122</td>\n",
       "      <td>44</td>\n",
       "      <td>43</td>\n",
       "      <td>38</td>\n",
       "      <td>0.037384</td>\n",
       "      <td>-0.082245</td>\n",
       "      <td>-0.014954</td>\n",
       "      <td>0.012878</td>\n",
       "      <td>0.129700</td>\n",
       "      <td>1.019287</td>\n",
       "      <td>0.33320</td>\n",
       "      <td>0.45178</td>\n",
       "      <td>-0.35070</td>\n",
       "      <td>120</td>\n",
       "      <td>1</td>\n",
       "    </tr>\n",
       "    <tr>\n",
       "      <th>66339</th>\n",
       "      <td>123</td>\n",
       "      <td>44</td>\n",
       "      <td>43</td>\n",
       "      <td>38</td>\n",
       "      <td>0.082245</td>\n",
       "      <td>0.044861</td>\n",
       "      <td>-0.149536</td>\n",
       "      <td>0.012817</td>\n",
       "      <td>0.135437</td>\n",
       "      <td>1.016846</td>\n",
       "      <td>0.33264</td>\n",
       "      <td>0.45542</td>\n",
       "      <td>-0.34860</td>\n",
       "      <td>120</td>\n",
       "      <td>1</td>\n",
       "    </tr>\n",
       "    <tr>\n",
       "      <th>66340</th>\n",
       "      <td>122</td>\n",
       "      <td>44</td>\n",
       "      <td>43</td>\n",
       "      <td>38</td>\n",
       "      <td>0.194397</td>\n",
       "      <td>-0.014954</td>\n",
       "      <td>0.074768</td>\n",
       "      <td>0.017517</td>\n",
       "      <td>0.138733</td>\n",
       "      <td>1.018494</td>\n",
       "      <td>0.32858</td>\n",
       "      <td>0.45304</td>\n",
       "      <td>-0.34734</td>\n",
       "      <td>120</td>\n",
       "      <td>1</td>\n",
       "    </tr>\n",
       "  </tbody>\n",
       "</table>\n",
       "</div>"
      ],
      "text/plain": [
       "       color1  color2  color3  color4      imu1      imu2      imu3      imu4  \\\n",
       "66336     123      44      43      38  0.029907 -0.007477 -0.164490  0.010803   \n",
       "66337     122      44      43      38  0.052338  0.029907  0.007477  0.012085   \n",
       "66338     122      44      43      38  0.037384 -0.082245 -0.014954  0.012878   \n",
       "66339     123      44      43      38  0.082245  0.044861 -0.149536  0.012817   \n",
       "66340     122      44      43      38  0.194397 -0.014954  0.074768  0.017517   \n",
       "\n",
       "           imu5      imu6     imu7     imu8     imu9  lidar  y  \n",
       "66336  0.130249  1.028442  0.33096  0.45290 -0.34524    120  1  \n",
       "66337  0.128479  1.019104  0.33152  0.44870 -0.34888    120  1  \n",
       "66338  0.129700  1.019287  0.33320  0.45178 -0.35070    120  1  \n",
       "66339  0.135437  1.016846  0.33264  0.45542 -0.34860    120  1  \n",
       "66340  0.138733  1.018494  0.32858  0.45304 -0.34734    120  1  "
      ]
     },
     "metadata": {},
     "output_type": "display_data"
    }
   ],
   "source": [
    "display(data.tail())"
   ]
  },
  {
   "cell_type": "code",
   "execution_count": 8,
   "metadata": {},
   "outputs": [
    {
     "name": "stdout",
     "output_type": "stream",
     "text": [
      "테스트 점수: 1.00\n"
     ]
    }
   ],
   "source": [
    "svm = SVC(gamma='auto')\n",
    "svm.fit(X_train, y_train)\n",
    "\n",
    "print(\"테스트 점수: {:.2f}\".format(svm.score(X_test, y_test)))"
   ]
  },
  {
   "cell_type": "code",
   "execution_count": 9,
   "metadata": {},
   "outputs": [],
   "source": [
    "data2 = pd.read_csv(\n",
    "    os.path.join(\"C:/Users/SANGWON/data\", \"tiger_p1_140lx_2.csv\"), index_col=False)\n",
    "\n",
    "features2 = data2.loc[:, 'color1':'lidar']\n",
    "# NumPy 배열 추출\n",
    "X2 = features2.values\n",
    "y2 = data2['y'].values"
   ]
  },
  {
   "cell_type": "code",
   "execution_count": 10,
   "metadata": {},
   "outputs": [
    {
     "name": "stdout",
     "output_type": "stream",
     "text": [
      "X 크기: (66341, 14)\n",
      "y 크기: (66341,)\n",
      "X2 크기: (65643, 14)\n",
      "y2 크기: (65643,)\n"
     ]
    }
   ],
   "source": [
    "print(\"X 크기: {}\".format(X.shape))\n",
    "print(\"y 크기: {}\".format(y.shape))\n",
    "\n",
    "print(\"X2 크기: {}\".format(X2.shape))\n",
    "print(\"y2 크기: {}\".format(y2.shape))"
   ]
  },
  {
   "cell_type": "code",
   "execution_count": 11,
   "metadata": {},
   "outputs": [
    {
     "data": {
      "text/plain": [
       "KNeighborsClassifier(algorithm='auto', leaf_size=30, metric='minkowski',\n",
       "           metric_params=None, n_jobs=None, n_neighbors=3, p=2,\n",
       "           weights='uniform')"
      ]
     },
     "execution_count": 11,
     "metadata": {},
     "output_type": "execute_result"
    }
   ],
   "source": [
    "from sklearn.neighbors import KNeighborsClassifier\n",
    "knn1and2 = KNeighborsClassifier(n_neighbors=3)\n",
    "\n",
    "knn1and2.fit(X, y)"
   ]
  },
  {
   "cell_type": "code",
   "execution_count": 12,
   "metadata": {},
   "outputs": [
    {
     "name": "stdout",
     "output_type": "stream",
     "text": [
      "knn의 테스트 세트 정확도 : 0.98\n"
     ]
    }
   ],
   "source": [
    "print(\"knn의 테스트 세트 정확도 : {:.2f}\".format(knn1and2.score(X2, y2)))"
   ]
  },
  {
   "cell_type": "code",
   "execution_count": 20,
   "metadata": {},
   "outputs": [
    {
     "name": "stdout",
     "output_type": "stream",
     "text": [
      "svm의 테스트 점수: 0.91\n"
     ]
    }
   ],
   "source": [
    "svm = SVC(gamma='auto')\n",
    "svm.fit(X, y)\n",
    "\n",
    "print(\"svm의 테스트 점수: {:.2f}\".format(svm.score(X2, y2)))"
   ]
  },
  {
   "cell_type": "code",
   "execution_count": 14,
   "metadata": {},
   "outputs": [
    {
     "name": "stdout",
     "output_type": "stream",
     "text": [
      "MinMaxScaler 전처리 후 테스트 점수: 0.42\n"
     ]
    }
   ],
   "source": [
    "scaler = MinMaxScaler().fit(X)\n",
    "X_scaled = scaler.transform(X)\n",
    "\n",
    "svm = SVC(gamma='auto')\n",
    "svm.fit(X_scaled, y)\n",
    "\n",
    "X2_scaled = scaler.transform(X2)\n",
    "\n",
    "print(\"MinMaxScaler 전처리 후 테스트 점수: {:.2f}\".format(svm.score(X2_scaled, y2)))"
   ]
  },
  {
   "cell_type": "code",
   "execution_count": 15,
   "metadata": {},
   "outputs": [
    {
     "name": "stdout",
     "output_type": "stream",
     "text": [
      "StandardScaler 전처리 후 테스트 점수: 0.76\n"
     ]
    }
   ],
   "source": [
    "from sklearn.preprocessing import StandardScaler\n",
    "\n",
    "scaler = StandardScaler().fit(X)\n",
    "X_scaled = scaler.transform(X)\n",
    "\n",
    "svm = SVC(gamma='auto')\n",
    "svm.fit(X_scaled, y)\n",
    "\n",
    "X2_scaled = scaler.transform(X2)\n",
    "\n",
    "print(\"StandardScaler 전처리 후 테스트 점수: {:.2f}\".format(svm.score(X2_scaled, y2)))"
   ]
  },
  {
   "cell_type": "code",
   "execution_count": 16,
   "metadata": {},
   "outputs": [
    {
     "name": "stdout",
     "output_type": "stream",
     "text": [
      "RobustScaler 전처리 후 테스트 점수: 0.90\n"
     ]
    }
   ],
   "source": [
    "from sklearn.preprocessing import RobustScaler\n",
    "\n",
    "scaler = RobustScaler().fit(X)\n",
    "X_scaled = scaler.transform(X)\n",
    "\n",
    "svm = SVC(gamma='auto')\n",
    "svm.fit(X_scaled, y)\n",
    "\n",
    "X2_scaled = scaler.transform(X2)\n",
    "\n",
    "print(\"RobustScaler 전처리 후 테스트 점수: {:.2f}\".format(svm.score(X2_scaled, y2)))"
   ]
  },
  {
   "cell_type": "code",
   "execution_count": 17,
   "metadata": {},
   "outputs": [
    {
     "name": "stdout",
     "output_type": "stream",
     "text": [
      "결정 트리의 테스트 점수: 0.12\n"
     ]
    }
   ],
   "source": [
    "from sklearn.tree import DecisionTreeClassifier\n",
    "\n",
    "tree = DecisionTreeClassifier(max_depth=10, random_state=0)\n",
    "tree.fit(X, y)\n",
    "\n",
    "print(\"결정 트리의 테스트 점수: {:.2f}\".format(svm.score(X2, y2)))"
   ]
  },
  {
   "cell_type": "code",
   "execution_count": 18,
   "metadata": {},
   "outputs": [
    {
     "name": "stdout",
     "output_type": "stream",
     "text": [
      "결정 트리의 테스트 점수: 0.12\n"
     ]
    }
   ],
   "source": [
    "from sklearn.tree import DecisionTreeClassifier\n",
    "\n",
    "tree = DecisionTreeClassifier(random_state=42)\n",
    "tree.fit(X, y)\n",
    "\n",
    "print(\"결정 트리의 테스트 점수: {:.2f}\".format(svm.score(X2, y2)))"
   ]
  },
  {
   "cell_type": "code",
   "execution_count": 19,
   "metadata": {},
   "outputs": [
    {
     "name": "stdout",
     "output_type": "stream",
     "text": [
      "랜덤 포레스트의 테스트 점수: 0.95\n"
     ]
    }
   ],
   "source": [
    "from sklearn.ensemble import RandomForestClassifier\n",
    "\n",
    "forest = RandomForestClassifier(n_estimators=100, random_state=42)\n",
    "forest.fit(X, y)\n",
    "\n",
    "print(\"랜덤 포레스트의 테스트 점수: {:.2f}\".format(forest.score(X2, y2)))"
   ]
  },
  {
   "cell_type": "code",
   "execution_count": null,
   "metadata": {},
   "outputs": [],
   "source": []
  },
  {
   "cell_type": "code",
   "execution_count": null,
   "metadata": {},
   "outputs": [],
   "source": []
  }
 ],
 "metadata": {
  "kernelspec": {
   "display_name": "Python 3",
   "language": "python",
   "name": "python3"
  },
  "language_info": {
   "codemirror_mode": {
    "name": "ipython",
    "version": 3
   },
   "file_extension": ".py",
   "mimetype": "text/x-python",
   "name": "python",
   "nbconvert_exporter": "python",
   "pygments_lexer": "ipython3",
   "version": "3.7.1"
  }
 },
 "nbformat": 4,
 "nbformat_minor": 2
}
