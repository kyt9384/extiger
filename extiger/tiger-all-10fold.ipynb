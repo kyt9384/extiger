{
 "cells": [
  {
   "cell_type": "code",
   "execution_count": 1,
   "metadata": {},
   "outputs": [],
   "source": [
    "#-*- coding:utf-8 -*-\n",
    "%matplotlib inline\n",
    "import numpy as np\n",
    "import matplotlib.pyplot as plt\n",
    "\n",
    "# 한글 폰트 적용\n",
    "from matplotlib import font_manager, rc\n",
    "import matplotlib as mpl\n",
    "font_name = font_manager.FontProperties(fname=\"c:/Windows/Fonts/malgun.ttf\").get_name()\n",
    "rc('font', family=font_name)\n",
    "mpl.rcParams['axes.unicode_minus'] = False"
   ]
  },
  {
   "cell_type": "code",
   "execution_count": 2,
   "metadata": {},
   "outputs": [],
   "source": [
    "import os\n",
    "import pandas as pd"
   ]
  },
  {
   "cell_type": "code",
   "execution_count": 3,
   "metadata": {},
   "outputs": [
    {
     "name": "stderr",
     "output_type": "stream",
     "text": [
      "C:\\Users\\SANGWON\\AppData\\Local\\Continuum\\anaconda3\\lib\\site-packages\\ipykernel_launcher.py:32: FutureWarning: Sorting because non-concatenation axis is not aligned. A future version\n",
      "of pandas will change to not sort by default.\n",
      "\n",
      "To accept the future behavior, pass 'sort=False'.\n",
      "\n",
      "To retain the current behavior and silence the warning, pass 'sort=True'.\n",
      "\n"
     ]
    }
   ],
   "source": [
    "p1_140lx = pd.read_csv(\n",
    "    os.path.join(\"C:/Users/SANGWON/data/tiger/p001/140lx\", \"p1_140lx.csv\"), index_col=False)\n",
    "\n",
    "p2_140lx = pd.read_csv(\n",
    "    os.path.join(\"C:/Users/SANGWON/data/tiger/p002/140lx\", \"p2_140lx.csv\"), index_col=False)\n",
    "\n",
    "p3_140lx = pd.read_csv(\n",
    "    os.path.join(\"C:/Users/SANGWON/data/tiger/p003/140lx\", \"p3_140lx.csv\"), index_col=False)\n",
    "\n",
    "p4_140lx = pd.read_csv(\n",
    "    os.path.join(\"C:/Users/SANGWON/data/tiger/p004/140lx\", \"p4_140lx.csv\"), index_col=False)\n",
    "\n",
    "p5_140lx = pd.read_csv(\n",
    "    os.path.join(\"C:/Users/SANGWON/data/tiger/p005/140lx\", \"p5_140lx.csv\"), index_col=False)\n",
    "\n",
    "p6_140lx = pd.read_csv(\n",
    "    os.path.join(\"C:/Users/SANGWON/data/tiger/p006/140lx\", \"p6_140lx.csv\"), index_col=False)\n",
    "\n",
    "p7_140lx = pd.read_csv(\n",
    "    os.path.join(\"C:/Users/SANGWON/data/tiger/p007/140lx\", \"p7_140lx.csv\"), index_col=False)\n",
    "\n",
    "p8_140lx = pd.read_csv(\n",
    "    os.path.join(\"C:/Users/SANGWON/data/tiger/p008/140lx\", \"p8_140lx.csv\"), index_col=False)\n",
    "\n",
    "p9_140lx = pd.read_csv(\n",
    "    os.path.join(\"C:/Users/SANGWON/data/tiger/p009/140lx\", \"p9_140lx.csv\"), index_col=False)\n",
    "\n",
    "p10_140lx = pd.read_csv(\n",
    "    os.path.join(\"C:/Users/SANGWON/data/tiger/p010/140lx\", \"p10_140lx.csv\"), index_col=False)\n",
    "\n",
    "all_140lx = pd.concat([p1_140lx, p2_140lx, p3_140lx, p4_140lx, p5_140lx, p6_140lx, p7_140lx, p8_140lx, p9_140lx, p10_140lx], \n",
    "                      ignore_index=True)\n",
    "\n",
    "all_140lx = all_140lx.drop(all_140lx.columns[[0]], axis=1)"
   ]
  },
  {
   "cell_type": "code",
   "execution_count": 4,
   "metadata": {},
   "outputs": [],
   "source": [
    "from sklearn.model_selection import cross_val_score\n",
    "\n",
    "features = all_140lx.loc[:, 'color1':'lidar']\n",
    "# feature와 target 분리\n",
    "all_140lx_data = features.values\n",
    "all_140lx_target = all_140lx['y'].values"
   ]
  },
  {
   "cell_type": "markdown",
   "metadata": {},
   "source": [
    "<h3>knn 모델</h3>"
   ]
  },
  {
   "cell_type": "code",
   "execution_count": 7,
   "metadata": {},
   "outputs": [
    {
     "name": "stdout",
     "output_type": "stream",
     "text": [
      "교차 검증 점수 : [0.48050496 0.58942161 0.88110183 0.72396632 0.58383908 0.74708914\n",
      " 0.82303174 0.69541346 0.62240185 0.6210146 ]\n",
      "교차 검증 평균 f1-점수 : 0.68\n"
     ]
    }
   ],
   "source": [
    "from sklearn.neighbors import KNeighborsClassifier\n",
    "from sklearn.model_selection import KFold\n",
    "# knn 모델 사용(매개변수 값 3), 10fold 사용\n",
    "\n",
    "knn = KNeighborsClassifier(n_neighbors=3)\n",
    "\n",
    "scores = cross_val_score(knn, all_140lx_data, all_140lx_target, cv=10, scoring='f1')\n",
    "\n",
    "print(\"교차 검증 점수 : {}\".format(scores))\n",
    "print(\"교차 검증 평균 f1-점수 : {:.2f}\".format(scores.mean()))"
   ]
  },
  {
   "cell_type": "markdown",
   "metadata": {},
   "source": [
    "<h3>svm 모델</h3>"
   ]
  },
  {
   "cell_type": "code",
   "execution_count": 8,
   "metadata": {},
   "outputs": [
    {
     "name": "stdout",
     "output_type": "stream",
     "text": [
      "교차 검증 점수 : [0.33929918 0.66482938 0.66705828 0.68113736 0.62199241 0.68298025\n",
      " 0.75197889 0.78922217 0.35936751 0.6425036 ]\n",
      "svm 평균 f1-점수:  0.620036903360991\n"
     ]
    }
   ],
   "source": [
    "from sklearn.preprocessing import MinMaxScaler\n",
    "from sklearn.svm import SVC\n",
    "from sklearn.pipeline import Pipeline\n",
    "from sklearn.model_selection import GridSearchCV\n",
    "from sklearn.model_selection import cross_val_score\n",
    "\n",
    "pipe = Pipeline([(\"scaler\", MinMaxScaler()), (\"svm\", SVC(C=0.1, gamma=1))])\n",
    "\n",
    "scores = cross_val_score(pipe, all_140lx_data, all_140lx_target, cv=10, scoring='f1')\n",
    "\n",
    "print(\"교차 검증 점수 : {}\".format(scores))\n",
    "print(\"svm 평균 f1-점수: \", scores.mean())"
   ]
  },
  {
   "cell_type": "code",
   "execution_count": null,
   "metadata": {},
   "outputs": [],
   "source": []
  }
 ],
 "metadata": {
  "kernelspec": {
   "display_name": "Python 3",
   "language": "python",
   "name": "python3"
  },
  "language_info": {
   "codemirror_mode": {
    "name": "ipython",
    "version": 3
   },
   "file_extension": ".py",
   "mimetype": "text/x-python",
   "name": "python",
   "nbconvert_exporter": "python",
   "pygments_lexer": "ipython3",
   "version": "3.7.1"
  }
 },
 "nbformat": 4,
 "nbformat_minor": 2
}
